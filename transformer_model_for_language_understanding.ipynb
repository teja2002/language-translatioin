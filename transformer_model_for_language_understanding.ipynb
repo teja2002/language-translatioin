{
 "cells": [
  {
   "cell_type": "markdown",
   "metadata": {},
   "source": [
    "## Portuguese to English text conversion\n",
    "\n",
    "we are training a transformer model to to translate portuguese to english\n",
    "A transformer model handles variable-sized input using stacks of self-attention layers instead of RNNs or CNNs. "
   ]
  },
  {
   "cell_type": "code",
   "execution_count": 1,
   "metadata": {},
   "outputs": [],
   "source": [
    "#importing necessary datsets\n",
    "import tensorflow_datasets as tfds\n",
    "import tensorflow as tf\n",
    "\n",
    "import time\n",
    "import numpy as np\n",
    "import matplotlib.pyplot as plt"
   ]
  },
  {
   "cell_type": "markdown",
   "metadata": {},
   "source": [
    "## downloading the dataset\n",
    "\n",
    "This dataset contains approximately 50000 training examples, 1100 validation examples, and 2000 test examples."
   ]
  },
  {
   "cell_type": "code",
   "execution_count": 2,
   "metadata": {},
   "outputs": [],
   "source": [
    "examples, metadata = tfds.load('ted_hrlr_translate/pt_to_en', with_info=True,\n",
    "                               as_supervised=True)\n",
    "\n",
    "#splitting the datset into training set and validation set\n",
    "train_examples, val_examples = examples['train'], examples['validation']"
   ]
  },
  {
   "cell_type": "markdown",
   "metadata": {},
   "source": [
    "## Create a custom subwords tokenizer from the training dataset.\n",
    "\n",
    "tfds.deprecated.text.SubwordTextEncoder.build_from_corpus is used To generate a vocabulary from a corpus.\n",
    "\n",
    "would take values as corpus generator, vocab_size"
   ]
  },
  {
   "cell_type": "code",
   "execution_count": 3,
   "metadata": {},
   "outputs": [],
   "source": [
    "tokenizer_en = tfds.deprecated.text.SubwordTextEncoder.build_from_corpus(\n",
    "    (en.numpy() for pt, en in train_examples), target_vocab_size=2**13)\n",
    "\n",
    "tokenizer_pt = tfds.deprecated.text.SubwordTextEncoder.build_from_corpus(\n",
    "    (pt.numpy() for pt, en in train_examples), target_vocab_size=2**13)"
   ]
  },
  {
   "cell_type": "code",
   "execution_count": 4,
   "metadata": {},
   "outputs": [
    {
     "name": "stdout",
     "output_type": "stream",
     "text": [
      "Tokenized string is [7915, 1248, 7946, 7194, 13, 2799, 7877]\n",
      "The original string: Transformer is awesome.\n"
     ]
    }
   ],
   "source": [
    "sample_string = 'Transformer is awesome.'\n",
    "\n",
    "#tokenized string\n",
    "tokenized_string = tokenizer_en.encode(sample_string)\n",
    "print ('Tokenized string is {}'.format(tokenized_string))\n",
    "\n",
    "#original string\n",
    "original_string = tokenizer_en.decode(tokenized_string)\n",
    "print ('The original string: {}'.format(original_string))\n",
    "\n",
    "assert original_string == sample_string"
   ]
  },
  {
   "cell_type": "markdown",
   "metadata": {},
   "source": [
    "## The tokenizer encodes the string by breaking it into subwords if the word is not in its dictionary."
   ]
  },
  {
   "cell_type": "code",
   "execution_count": 5,
   "metadata": {},
   "outputs": [
    {
     "name": "stdout",
     "output_type": "stream",
     "text": [
      "7915 ----> T\n",
      "1248 ----> ran\n",
      "7946 ----> s\n",
      "7194 ----> former \n",
      "13 ----> is \n",
      "2799 ----> awesome\n",
      "7877 ----> .\n"
     ]
    }
   ],
   "source": [
    "for ts in tokenized_string:\n",
    "    print ('{} ----> {}'.format(ts, tokenizer_en.decode([ts])))"
   ]
  },
  {
   "cell_type": "code",
   "execution_count": 6,
   "metadata": {},
   "outputs": [],
   "source": [
    "BUFFER_SIZE = 20000\n",
    "BATCH_SIZE = 64"
   ]
  },
  {
   "cell_type": "markdown",
   "metadata": {},
   "source": [
    "## Add a start and end token to the input and target."
   ]
  },
  {
   "cell_type": "code",
   "execution_count": 7,
   "metadata": {},
   "outputs": [],
   "source": [
    "def encode(lang1, lang2):\n",
    "    lang1 = [tokenizer_pt.vocab_size] + tokenizer_pt.encode(\n",
    "        lang1.numpy()) + [tokenizer_pt.vocab_size+1]\n",
    "\n",
    "    lang2 = [tokenizer_en.vocab_size] + tokenizer_en.encode(\n",
    "        lang2.numpy()) + [tokenizer_en.vocab_size+1]\n",
    "\n",
    "    return lang1, lang2"
   ]
  },
  {
   "cell_type": "markdown",
   "metadata": {},
   "source": [
    "You want to use Dataset.map to apply this function to each element of the dataset. Dataset.map runs in graph mode.\n",
    "\n",
    "Graph tensors do not have a value.\n",
    "\n",
    "In graph mode you can only use TensorFlow Ops and functions.\n",
    "\n",
    "\n",
    "So you can't .map this function directly: You need to wrap it in a tf.py_function. The tf.py_function will pass regular tensors (with a value and a .numpy() method to access it), to the wrapped python function."
   ]
  },
  {
   "cell_type": "code",
   "execution_count": 8,
   "metadata": {},
   "outputs": [],
   "source": [
    "def tf_encode(pt, en):\n",
    "    result_pt, result_en = tf.py_function(encode, [pt, en], [tf.int64, tf.int64])\n",
    "    result_pt.set_shape([None])\n",
    "    result_en.set_shape([None])\n",
    "\n",
    "    return result_pt, result_en"
   ]
  },
  {
   "cell_type": "code",
   "execution_count": 9,
   "metadata": {},
   "outputs": [],
   "source": [
    "MAX_LENGTH = 40"
   ]
  },
  {
   "cell_type": "code",
   "execution_count": 10,
   "metadata": {},
   "outputs": [],
   "source": [
    "def filter_max_length(x, y, max_length=MAX_LENGTH):\n",
    "    return tf.logical_and(tf.size(x) <= max_length,\n",
    "                          tf.size(y) <= max_length)"
   ]
  },
  {
   "cell_type": "code",
   "execution_count": 11,
   "metadata": {},
   "outputs": [],
   "source": [
    "train_dataset = train_examples.map(tf_encode)\n",
    "train_dataset = train_dataset.filter(filter_max_length)\n",
    "# cache the dataset to memory to get a speedup while reading from it.\n",
    "train_dataset = train_dataset.cache()\n",
    "train_dataset = train_dataset.shuffle(BUFFER_SIZE).padded_batch(BATCH_SIZE)\n",
    "train_dataset = train_dataset.prefetch(tf.data.experimental.AUTOTUNE)#\n",
    "\n",
    "\n",
    "val_dataset = val_examples.map(tf_encode)\n",
    "val_dataset = val_dataset.filter(filter_max_length).padded_batch(BATCH_SIZE)"
   ]
  },
  {
   "cell_type": "markdown",
   "metadata": {},
   "source": [
    "## The next() function returns the next item in an iterator.\n",
    "\n"
   ]
  },
  {
   "cell_type": "code",
   "execution_count": 12,
   "metadata": {},
   "outputs": [
    {
     "data": {
      "text/plain": [
       "(<tf.Tensor: shape=(64, 38), dtype=int64, numpy=\n",
       " array([[8214,  342, 3032, ...,    0,    0,    0],\n",
       "        [8214,   95,  198, ...,    0,    0,    0],\n",
       "        [8214, 4479, 7990, ...,    0,    0,    0],\n",
       "        ...,\n",
       "        [8214,  584,   12, ...,    0,    0,    0],\n",
       "        [8214,   59, 1548, ...,    0,    0,    0],\n",
       "        [8214,  118,   34, ...,    0,    0,    0]], dtype=int64)>,\n",
       " <tf.Tensor: shape=(64, 40), dtype=int64, numpy=\n",
       " array([[8087,   98,   25, ...,    0,    0,    0],\n",
       "        [8087,   12,   20, ...,    0,    0,    0],\n",
       "        [8087,   12, 5453, ...,    0,    0,    0],\n",
       "        ...,\n",
       "        [8087,   18, 2059, ...,    0,    0,    0],\n",
       "        [8087,   16, 1436, ...,    0,    0,    0],\n",
       "        [8087,   15,   57, ...,    0,    0,    0]], dtype=int64)>)"
      ]
     },
     "execution_count": 12,
     "metadata": {},
     "output_type": "execute_result"
    }
   ],
   "source": [
    "pt_batch, en_batch = next(iter(val_dataset))\n",
    "pt_batch, en_batch"
   ]
  },
  {
   "cell_type": "markdown",
   "metadata": {},
   "source": [
    "## P E(pos,2i) = sin(pos/10000^(2i/d))\n",
    "## P E(pos,2i+1) = cos(pos/10000^(2i/d))\n",
    "\n",
    "you can check the original paper - Positional Encoding to Control Output Sequence Length\n",
    "\n",
    "\n",
    "d/d_model = embedding dimension\n"
   ]
  },
  {
   "cell_type": "code",
   "execution_count": 14,
   "metadata": {},
   "outputs": [],
   "source": [
    "def get_angles(pos, i, d_model):\n",
    "    angle_rates = 1 / np.power(10000, (2 * (i//2)) / np.float32(d_model))\n",
    "    return pos * angle_rates"
   ]
  },
  {
   "cell_type": "code",
   "execution_count": 15,
   "metadata": {},
   "outputs": [],
   "source": [
    "# creating the equation which are stated above\n",
    "def positional_encoding(position, d_model):\n",
    "    angle_rads = get_angles(np.arange(position)[:, np.newaxis],\n",
    "                          np.arange(d_model)[np.newaxis, :],\n",
    "                          d_model)\n",
    "\n",
    "    # apply sin to even indices in the array; 2i\n",
    "    angle_rads[:, 0::2] = np.sin(angle_rads[:, 0::2])\n",
    "\n",
    "    # apply cos to odd indices in the array; 2i+1\n",
    "    angle_rads[:, 1::2] = np.cos(angle_rads[:, 1::2])\n",
    "\n",
    "    pos_encoding = angle_rads[np.newaxis, ...]\n",
    "\n",
    "    return tf.cast(pos_encoding, dtype=tf.float32)"
   ]
  },
  {
   "cell_type": "code",
   "execution_count": 16,
   "metadata": {},
   "outputs": [
    {
     "name": "stdout",
     "output_type": "stream",
     "text": [
      "(1, 50, 512)\n"
     ]
    },
    {
     "data": {
      "image/png": "[encoded data removed]",
      "text/plain": [
       "<Figure size 432x288 with 2 Axes>"
      ]
     },
     "metadata": {
      "needs_background": "light"
     },
     "output_type": "display_data"
    }
   ],
   "source": [
    "pos_encoding = positional_encoding(50, 512)\n",
    "print (pos_encoding.shape)\n",
    "\n",
    "plt.pcolormesh(pos_encoding[0], cmap='RdBu')\n",
    "plt.xlabel('Depth')\n",
    "plt.xlim((0, 512))\n",
    "plt.ylabel('Position')\n",
    "plt.colorbar()\n",
    "plt.show()"
   ]
  },
  {
   "cell_type": "markdown",
   "metadata": {},
   "source": [
    "##  Masking\n",
    "\n",
    "\n",
    "Mask all the pad tokens in the batch of sequence. It ensures that the model does not treat padding as the input.  The mask indicates where pad value 0 is present: it outputs a 1 at those locations, and a 0 otherwise."
   ]
  },
  {
   "cell_type": "code",
   "execution_count": 17,
   "metadata": {},
   "outputs": [],
   "source": [
    "def create_padding_mask(seq):\n",
    "    seq = tf.cast(tf.math.equal(seq, 0), tf.float32)\n",
    "\n",
    "    # add extra dimensions to add the padding\n",
    "    # to the attention logits.\n",
    "    return seq[:, tf.newaxis, tf.newaxis, :]  # (batch_size, 1, 1, seq_len)"
   ]
  },
  {
   "cell_type": "code",
   "execution_count": 17,
   "metadata": {},
   "outputs": [
    {
     "data": {
      "text/plain": [
       "<tf.Tensor: shape=(3, 1, 1, 5), dtype=float32, numpy=\n",
       "array([[[[0., 0., 1., 1., 0.]]],\n",
       "\n",
       "\n",
       "       [[[0., 0., 0., 1., 1.]]],\n",
       "\n",
       "\n",
       "       [[[1., 1., 1., 0., 0.]]]], dtype=float32)>"
      ]
     },
     "execution_count": 17,
     "metadata": {},
     "output_type": "execute_result"
    }
   ],
   "source": [
    "x = tf.constant([[7, 6, 0, 0, 1], [1, 2, 3, 0, 0], [0, 0, 0, 4, 5]])\n",
    "create_padding_mask(x)"
   ]
  },
  {
   "cell_type": "code",
   "execution_count": 18,
   "metadata": {},
   "outputs": [],
   "source": [
    "def create_look_ahead_mask(size):\n",
    "  mask = 1 - tf.linalg.band_part(tf.ones((size, size)), -1, 0)\n",
    "  return mask  # (seq_len, seq_len)"
   ]
  },
  {
   "cell_type": "code",
   "execution_count": 19,
   "metadata": {},
   "outputs": [
    {
     "data": {
      "text/plain": [
       "<tf.Tensor: shape=(3, 3), dtype=float32, numpy=\n",
       "array([[0., 1., 1.],\n",
       "       [0., 0., 1.],\n",
       "       [0., 0., 0.]], dtype=float32)>"
      ]
     },
     "execution_count": 19,
     "metadata": {},
     "output_type": "execute_result"
    }
   ],
   "source": [
    "x = tf.random.uniform((1, 3))\n",
    "temp = create_look_ahead_mask(x.shape[1])\n",
    "temp"
   ]
  },
  {
   "cell_type": "code",
   "execution_count": 20,
   "metadata": {},
   "outputs": [],
   "source": [
    "def scaled_dot_product_attention(q, k, v, mask):\n",
    "  \"\"\"Calculate the attention weights.\n",
    "  q, k, v must have matching leading dimensions.\n",
    "  k, v must have matching penultimate dimension, i.e.: seq_len_k = seq_len_v.\n",
    "  The mask has different shapes depending on its type(padding or look ahead) \n",
    "  but it must be broadcastable for addition.\n",
    "\n",
    "  Args:\n",
    "    q: query shape == (..., seq_len_q, depth)\n",
    "    k: key shape == (..., seq_len_k, depth)\n",
    "    v: value shape == (..., seq_len_v, depth_v)\n",
    "    mask: Float tensor with shape broadcastable \n",
    "          to (..., seq_len_q, seq_len_k). Defaults to None.\n",
    "\n",
    "  Returns:\n",
    "    output, attention_weights\n",
    "  \"\"\"\n",
    "\n",
    "  matmul_qk = tf.matmul(q, k, transpose_b=True)  # (..., seq_len_q, seq_len_k)\n",
    "\n",
    "  # scale matmul_qk\n",
    "  dk = tf.cast(tf.shape(k)[-1], tf.float32)\n",
    "  scaled_attention_logits = matmul_qk / tf.math.sqrt(dk)\n",
    "\n",
    "  # add the mask to the scaled tensor.\n",
    "  if mask is not None:\n",
    "    scaled_attention_logits += (mask * -1e9)  \n",
    "\n",
    "  # softmax is normalized on the last axis (seq_len_k) so that the scores\n",
    "  # add up to 1.\n",
    "  attention_weights = tf.nn.softmax(scaled_attention_logits, axis=-1)  # (..., seq_len_q, seq_len_k)\n",
    "\n",
    "  output = tf.matmul(attention_weights, v)  # (..., seq_len_q, depth_v)\n",
    "\n",
    "  return output, attention_weights"
   ]
  },
  {
   "cell_type": "code",
   "execution_count": 21,
   "metadata": {},
   "outputs": [],
   "source": [
    "def print_out(q, k, v):\n",
    "  temp_out, temp_attn = scaled_dot_product_attention(\n",
    "      q, k, v, None)\n",
    "  print ('Attention weights are:')\n",
    "  print (temp_attn)\n",
    "  print ('Output is:')\n",
    "  print (temp_out)"
   ]
  },
  {
   "cell_type": "code",
   "execution_count": 22,
   "metadata": {},
   "outputs": [
    {
     "name": "stdout",
     "output_type": "stream",
     "text": [
      "Attention weights are:\n",
      "tf.Tensor([[0. 1. 0. 0.]], shape=(1, 4), dtype=float32)\n",
      "Output is:\n",
      "tf.Tensor([[10.  0.]], shape=(1, 2), dtype=float32)\n"
     ]
    }
   ],
   "source": [
    "np.set_printoptions(suppress=True)\n",
    "\n",
    "temp_k = tf.constant([[10,0,0],\n",
    "                      [0,10,0],\n",
    "                      [0,0,10],\n",
    "                      [0,0,10]], dtype=tf.float32)  # (4, 3)\n",
    "\n",
    "temp_v = tf.constant([[   1,0],\n",
    "                      [  10,0],\n",
    "                      [ 100,5],\n",
    "                      [1000,6]], dtype=tf.float32)  # (4, 2)\n",
    "\n",
    "# This `query` aligns with the second `key`,\n",
    "# so the second `value` is returned.\n",
    "temp_q = tf.constant([[0, 10, 0]], dtype=tf.float32)  # (1, 3)\n",
    "print_out(temp_q, temp_k, temp_v)"
   ]
  },
  {
   "cell_type": "code",
   "execution_count": 23,
   "metadata": {},
   "outputs": [
    {
     "name": "stdout",
     "output_type": "stream",
     "text": [
      "Attention weights are:\n",
      "tf.Tensor([[0.  0.  0.5 0.5]], shape=(1, 4), dtype=float32)\n",
      "Output is:\n",
      "tf.Tensor([[550.    5.5]], shape=(1, 2), dtype=float32)\n"
     ]
    }
   ],
   "source": [
    "# This query aligns with a repeated key (third and fourth), \n",
    "# so all associated values get averaged.\n",
    "temp_q = tf.constant([[0, 0, 10]], dtype=tf.float32)  # (1, 3)\n",
    "print_out(temp_q, temp_k, temp_v)"
   ]
  },
  {
   "cell_type": "code",
   "execution_count": 24,
   "metadata": {},
   "outputs": [
    {
     "name": "stdout",
     "output_type": "stream",
     "text": [
      "Attention weights are:\n",
      "tf.Tensor([[0.5 0.5 0.  0. ]], shape=(1, 4), dtype=float32)\n",
      "Output is:\n",
      "tf.Tensor([[5.5 0. ]], shape=(1, 2), dtype=float32)\n"
     ]
    }
   ],
   "source": [
    "# This query aligns equally with the first and second key, \n",
    "# so their values get averaged.\n",
    "temp_q = tf.constant([[10, 10, 0]], dtype=tf.float32)  # (1, 3)\n",
    "print_out(temp_q, temp_k, temp_v)"
   ]
  },
  {
   "cell_type": "code",
   "execution_count": 25,
   "metadata": {},
   "outputs": [
    {
     "name": "stdout",
     "output_type": "stream",
     "text": [
      "Attention weights are:\n",
      "tf.Tensor(\n",
      "[[0.  0.  0.5 0.5]\n",
      " [0.  1.  0.  0. ]\n",
      " [0.5 0.5 0.  0. ]], shape=(3, 4), dtype=float32)\n",
      "Output is:\n",
      "tf.Tensor(\n",
      "[[550.    5.5]\n",
      " [ 10.    0. ]\n",
      " [  5.5   0. ]], shape=(3, 2), dtype=float32)\n"
     ]
    }
   ],
   "source": [
    "temp_q = tf.constant([[0, 0, 10], [0, 10, 0], [10, 10, 0]], dtype=tf.float32)  # (3, 3)\n",
    "print_out(temp_q, temp_k, temp_v)"
   ]
  },
  {
   "cell_type": "code",
   "execution_count": 26,
   "metadata": {},
   "outputs": [],
   "source": [
    "class MultiHeadAttention(tf.keras.layers.Layer):\n",
    "  def __init__(self, d_model, num_heads):\n",
    "    super(MultiHeadAttention, self).__init__()\n",
    "    self.num_heads = num_heads\n",
    "    self.d_model = d_model\n",
    "\n",
    "    assert d_model % self.num_heads == 0\n",
    "\n",
    "    self.depth = d_model // self.num_heads\n",
    "\n",
    "    self.wq = tf.keras.layers.Dense(d_model)\n",
    "    self.wk = tf.keras.layers.Dense(d_model)\n",
    "    self.wv = tf.keras.layers.Dense(d_model)\n",
    "\n",
    "    self.dense = tf.keras.layers.Dense(d_model)\n",
    "\n",
    "  def split_heads(self, x, batch_size):\n",
    "    \"\"\"Split the last dimension into (num_heads, depth).\n",
    "    Transpose the result such that the shape is (batch_size, num_heads, seq_len, depth)\n",
    "    \"\"\"\n",
    "    x = tf.reshape(x, (batch_size, -1, self.num_heads, self.depth))\n",
    "    return tf.transpose(x, perm=[0, 2, 1, 3])\n",
    "\n",
    "  def call(self, v, k, q, mask):\n",
    "    batch_size = tf.shape(q)[0]\n",
    "\n",
    "    q = self.wq(q)  # (batch_size, seq_len, d_model)\n",
    "    k = self.wk(k)  # (batch_size, seq_len, d_model)\n",
    "    v = self.wv(v)  # (batch_size, seq_len, d_model)\n",
    "\n",
    "    q = self.split_heads(q, batch_size)  # (batch_size, num_heads, seq_len_q, depth)\n",
    "    k = self.split_heads(k, batch_size)  # (batch_size, num_heads, seq_len_k, depth)\n",
    "    v = self.split_heads(v, batch_size)  # (batch_size, num_heads, seq_len_v, depth)\n",
    "\n",
    "    # scaled_attention.shape == (batch_size, num_heads, seq_len_q, depth)\n",
    "    # attention_weights.shape == (batch_size, num_heads, seq_len_q, seq_len_k)\n",
    "    scaled_attention, attention_weights = scaled_dot_product_attention(\n",
    "        q, k, v, mask)\n",
    "\n",
    "    scaled_attention = tf.transpose(scaled_attention, perm=[0, 2, 1, 3])  # (batch_size, seq_len_q, num_heads, depth)\n",
    "\n",
    "    concat_attention = tf.reshape(scaled_attention, \n",
    "                                  (batch_size, -1, self.d_model))  # (batch_size, seq_len_q, d_model)\n",
    "\n",
    "    output = self.dense(concat_attention)  # (batch_size, seq_len_q, d_model)\n",
    "\n",
    "    return output, attention_weights"
   ]
  },
  {
   "cell_type": "code",
   "execution_count": 27,
   "metadata": {},
   "outputs": [
    {
     "data": {
      "text/plain": [
       "(TensorShape([1, 60, 512]), TensorShape([1, 8, 60, 60]))"
      ]
     },
     "execution_count": 27,
     "metadata": {},
     "output_type": "execute_result"
    }
   ],
   "source": [
    "temp_mha = MultiHeadAttention(d_model=512, num_heads=8)\n",
    "y = tf.random.uniform((1, 60, 512))  # (batch_size, encoder_sequence, d_model)\n",
    "out, attn = temp_mha(y, k=y, q=y, mask=None)\n",
    "out.shape, attn.shape"
   ]
  },
  {
   "cell_type": "code",
   "execution_count": 28,
   "metadata": {},
   "outputs": [],
   "source": [
    "def point_wise_feed_forward_network(d_model, dff):\n",
    "  return tf.keras.Sequential([\n",
    "      tf.keras.layers.Dense(dff, activation='relu'),  # (batch_size, seq_len, dff)\n",
    "      tf.keras.layers.Dense(d_model)  # (batch_size, seq_len, d_model)\n",
    "  ])"
   ]
  },
  {
   "cell_type": "code",
   "execution_count": 29,
   "metadata": {},
   "outputs": [
    {
     "data": {
      "text/plain": [
       "TensorShape([64, 50, 512])"
      ]
     },
     "execution_count": 29,
     "metadata": {},
     "output_type": "execute_result"
    }
   ],
   "source": [
    "sample_ffn = point_wise_feed_forward_network(512, 2048)\n",
    "sample_ffn(tf.random.uniform((64, 50, 512))).shape"
   ]
  },
  {
   "cell_type": "code",
   "execution_count": 30,
   "metadata": {},
   "outputs": [],
   "source": [
    "class EncoderLayer(tf.keras.layers.Layer):\n",
    "  def __init__(self, d_model, num_heads, dff, rate=0.1):\n",
    "    super(EncoderLayer, self).__init__()\n",
    "\n",
    "    self.mha = MultiHeadAttention(d_model, num_heads)\n",
    "    self.ffn = point_wise_feed_forward_network(d_model, dff)\n",
    "\n",
    "    self.layernorm1 = tf.keras.layers.LayerNormalization(epsilon=1e-6)\n",
    "    self.layernorm2 = tf.keras.layers.LayerNormalization(epsilon=1e-6)\n",
    "\n",
    "    self.dropout1 = tf.keras.layers.Dropout(rate)\n",
    "    self.dropout2 = tf.keras.layers.Dropout(rate)\n",
    "\n",
    "  def call(self, x, training, mask):\n",
    "\n",
    "    attn_output, _ = self.mha(x, x, x, mask)  # (batch_size, input_seq_len, d_model)\n",
    "    attn_output = self.dropout1(attn_output, training=training)\n",
    "    out1 = self.layernorm1(x + attn_output)  # (batch_size, input_seq_len, d_model)\n",
    "\n",
    "    ffn_output = self.ffn(out1)  # (batch_size, input_seq_len, d_model)\n",
    "    ffn_output = self.dropout2(ffn_output, training=training)\n",
    "    out2 = self.layernorm2(out1 + ffn_output)  # (batch_size, input_seq_len, d_model)\n",
    "\n",
    "    return out2"
   ]
  },
  {
   "cell_type": "code",
   "execution_count": 31,
   "metadata": {},
   "outputs": [
    {
     "data": {
      "text/plain": [
       "TensorShape([64, 43, 512])"
      ]
     },
     "execution_count": 31,
     "metadata": {},
     "output_type": "execute_result"
    }
   ],
   "source": [
    "sample_encoder_layer = EncoderLayer(512, 8, 2048)\n",
    "\n",
    "sample_encoder_layer_output = sample_encoder_layer(\n",
    "    tf.random.uniform((64, 43, 512)), False, None)\n",
    "\n",
    "sample_encoder_layer_output.shape  # (batch_size, input_seq_len, d_model)"
   ]
  },
  {
   "cell_type": "code",
   "execution_count": 32,
   "metadata": {},
   "outputs": [],
   "source": [
    "class DecoderLayer(tf.keras.layers.Layer):\n",
    "  def __init__(self, d_model, num_heads, dff, rate=0.1):\n",
    "    super(DecoderLayer, self).__init__()\n",
    "\n",
    "    self.mha1 = MultiHeadAttention(d_model, num_heads)\n",
    "    self.mha2 = MultiHeadAttention(d_model, num_heads)\n",
    "\n",
    "    self.ffn = point_wise_feed_forward_network(d_model, dff)\n",
    "\n",
    "    self.layernorm1 = tf.keras.layers.LayerNormalization(epsilon=1e-6)\n",
    "    self.layernorm2 = tf.keras.layers.LayerNormalization(epsilon=1e-6)\n",
    "    self.layernorm3 = tf.keras.layers.LayerNormalization(epsilon=1e-6)\n",
    "\n",
    "    self.dropout1 = tf.keras.layers.Dropout(rate)\n",
    "    self.dropout2 = tf.keras.layers.Dropout(rate)\n",
    "    self.dropout3 = tf.keras.layers.Dropout(rate)\n",
    "\n",
    "\n",
    "  def call(self, x, enc_output, training, \n",
    "           look_ahead_mask, padding_mask):\n",
    "    # enc_output.shape == (batch_size, input_seq_len, d_model)\n",
    "\n",
    "    attn1, attn_weights_block1 = self.mha1(x, x, x, look_ahead_mask)  # (batch_size, target_seq_len, d_model)\n",
    "    attn1 = self.dropout1(attn1, training=training)\n",
    "    out1 = self.layernorm1(attn1 + x)\n",
    "\n",
    "    attn2, attn_weights_block2 = self.mha2(\n",
    "        enc_output, enc_output, out1, padding_mask)  # (batch_size, target_seq_len, d_model)\n",
    "    attn2 = self.dropout2(attn2, training=training)\n",
    "    out2 = self.layernorm2(attn2 + out1)  # (batch_size, target_seq_len, d_model)\n",
    "\n",
    "    ffn_output = self.ffn(out2)  # (batch_size, target_seq_len, d_model)\n",
    "    ffn_output = self.dropout3(ffn_output, training=training)\n",
    "    out3 = self.layernorm3(ffn_output + out2)  # (batch_size, target_seq_len, d_model)\n",
    "\n",
    "    return out3, attn_weights_block1, attn_weights_block2"
   ]
  },
  {
   "cell_type": "code",
   "execution_count": 33,
   "metadata": {},
   "outputs": [
    {
     "data": {
      "text/plain": [
       "TensorShape([64, 50, 512])"
      ]
     },
     "execution_count": 33,
     "metadata": {},
     "output_type": "execute_result"
    }
   ],
   "source": [
    "sample_decoder_layer = DecoderLayer(512, 8, 2048)\n",
    "\n",
    "sample_decoder_layer_output, _, _ = sample_decoder_layer(\n",
    "    tf.random.uniform((64, 50, 512)), sample_encoder_layer_output, \n",
    "    False, None, None)\n",
    "\n",
    "sample_decoder_layer_output.shape  # (batch_size, target_seq_len, d_model)"
   ]
  },
  {
   "cell_type": "code",
   "execution_count": 34,
   "metadata": {},
   "outputs": [],
   "source": [
    "class Encoder(tf.keras.layers.Layer):\n",
    "  def __init__(self, num_layers, d_model, num_heads, dff, input_vocab_size,\n",
    "               maximum_position_encoding, rate=0.1):\n",
    "    super(Encoder, self).__init__()\n",
    "\n",
    "    self.d_model = d_model\n",
    "    self.num_layers = num_layers\n",
    "\n",
    "    self.embedding = tf.keras.layers.Embedding(input_vocab_size, d_model)\n",
    "    self.pos_encoding = positional_encoding(maximum_position_encoding, \n",
    "                                            self.d_model)\n",
    "\n",
    "\n",
    "    self.enc_layers = [EncoderLayer(d_model, num_heads, dff, rate) \n",
    "                       for _ in range(num_layers)]\n",
    "\n",
    "    self.dropout = tf.keras.layers.Dropout(rate)\n",
    "\n",
    "  def call(self, x, training, mask):\n",
    "\n",
    "    seq_len = tf.shape(x)[1]\n",
    "\n",
    "    # adding embedding and position encoding.\n",
    "    x = self.embedding(x)  # (batch_size, input_seq_len, d_model)\n",
    "    x *= tf.math.sqrt(tf.cast(self.d_model, tf.float32))\n",
    "    x += self.pos_encoding[:, :seq_len, :]\n",
    "\n",
    "    x = self.dropout(x, training=training)\n",
    "\n",
    "    for i in range(self.num_layers):\n",
    "      x = self.enc_layers[i](x, training, mask)\n",
    "\n",
    "    return x  # (batch_size, input_seq_len, d_model)"
   ]
  },
  {
   "cell_type": "code",
   "execution_count": 35,
   "metadata": {},
   "outputs": [
    {
     "name": "stdout",
     "output_type": "stream",
     "text": [
      "(64, 62, 512)\n"
     ]
    }
   ],
   "source": [
    "sample_encoder = Encoder(num_layers=2, d_model=512, num_heads=8, \n",
    "                         dff=2048, input_vocab_size=8500,\n",
    "                         maximum_position_encoding=10000)\n",
    "temp_input = tf.random.uniform((64, 62), dtype=tf.int64, minval=0, maxval=200)\n",
    "\n",
    "sample_encoder_output = sample_encoder(temp_input, training=False, mask=None)\n",
    "\n",
    "print (sample_encoder_output.shape)  # (batch_size, input_seq_len, d_model)"
   ]
  },
  {
   "cell_type": "code",
   "execution_count": 36,
   "metadata": {},
   "outputs": [],
   "source": [
    "class Decoder(tf.keras.layers.Layer):\n",
    "  def __init__(self, num_layers, d_model, num_heads, dff, target_vocab_size,\n",
    "               maximum_position_encoding, rate=0.1):\n",
    "    super(Decoder, self).__init__()\n",
    "\n",
    "    self.d_model = d_model\n",
    "    self.num_layers = num_layers\n",
    "\n",
    "    self.embedding = tf.keras.layers.Embedding(target_vocab_size, d_model)\n",
    "    self.pos_encoding = positional_encoding(maximum_position_encoding, d_model)\n",
    "\n",
    "    self.dec_layers = [DecoderLayer(d_model, num_heads, dff, rate) \n",
    "                       for _ in range(num_layers)]\n",
    "    self.dropout = tf.keras.layers.Dropout(rate)\n",
    "\n",
    "  def call(self, x, enc_output, training, \n",
    "           look_ahead_mask, padding_mask):\n",
    "\n",
    "    seq_len = tf.shape(x)[1]\n",
    "    attention_weights = {}\n",
    "\n",
    "    x = self.embedding(x)  # (batch_size, target_seq_len, d_model)\n",
    "    x *= tf.math.sqrt(tf.cast(self.d_model, tf.float32))\n",
    "    x += self.pos_encoding[:, :seq_len, :]\n",
    "\n",
    "    x = self.dropout(x, training=training)\n",
    "\n",
    "    for i in range(self.num_layers):\n",
    "      x, block1, block2 = self.dec_layers[i](x, enc_output, training,\n",
    "                                             look_ahead_mask, padding_mask)\n",
    "\n",
    "      attention_weights['decoder_layer{}_block1'.format(i+1)] = block1\n",
    "      attention_weights['decoder_layer{}_block2'.format(i+1)] = block2\n",
    "\n",
    "    # x.shape == (batch_size, target_seq_len, d_model)\n",
    "    return x, attention_weights"
   ]
  },
  {
   "cell_type": "code",
   "execution_count": 37,
   "metadata": {},
   "outputs": [
    {
     "data": {
      "text/plain": [
       "(TensorShape([64, 26, 512]), TensorShape([64, 8, 26, 62]))"
      ]
     },
     "execution_count": 37,
     "metadata": {},
     "output_type": "execute_result"
    }
   ],
   "source": [
    "sample_decoder = Decoder(num_layers=2, d_model=512, num_heads=8, \n",
    "                         dff=2048, target_vocab_size=8000,\n",
    "                         maximum_position_encoding=5000)\n",
    "temp_input = tf.random.uniform((64, 26), dtype=tf.int64, minval=0, maxval=200)\n",
    "\n",
    "output, attn = sample_decoder(temp_input, \n",
    "                              enc_output=sample_encoder_output, \n",
    "                              training=False,\n",
    "                              look_ahead_mask=None, \n",
    "                              padding_mask=None)\n",
    "\n",
    "output.shape, attn['decoder_layer2_block2'].shape"
   ]
  },
  {
   "cell_type": "code",
   "execution_count": 38,
   "metadata": {},
   "outputs": [],
   "source": [
    "class Transformer(tf.keras.Model):\n",
    "  def __init__(self, num_layers, d_model, num_heads, dff, input_vocab_size, \n",
    "               target_vocab_size, pe_input, pe_target, rate=0.1):\n",
    "    super(Transformer, self).__init__()\n",
    "\n",
    "    self.encoder = Encoder(num_layers, d_model, num_heads, dff, \n",
    "                           input_vocab_size, pe_input, rate)\n",
    "\n",
    "    self.decoder = Decoder(num_layers, d_model, num_heads, dff, \n",
    "                           target_vocab_size, pe_target, rate)\n",
    "\n",
    "    self.final_layer = tf.keras.layers.Dense(target_vocab_size)\n",
    "\n",
    "  def call(self, inp, tar, training, enc_padding_mask, \n",
    "           look_ahead_mask, dec_padding_mask):\n",
    "\n",
    "    enc_output = self.encoder(inp, training, enc_padding_mask)  # (batch_size, inp_seq_len, d_model)\n",
    "\n",
    "    # dec_output.shape == (batch_size, tar_seq_len, d_model)\n",
    "    dec_output, attention_weights = self.decoder(\n",
    "        tar, enc_output, training, look_ahead_mask, dec_padding_mask)\n",
    "\n",
    "    final_output = self.final_layer(dec_output)  # (batch_size, tar_seq_len, target_vocab_size)\n",
    "\n",
    "    return final_output, attention_weights"
   ]
  },
  {
   "cell_type": "code",
   "execution_count": 39,
   "metadata": {},
   "outputs": [
    {
     "data": {
      "text/plain": [
       "TensorShape([64, 36, 8000])"
      ]
     },
     "execution_count": 39,
     "metadata": {},
     "output_type": "execute_result"
    }
   ],
   "source": [
    "sample_transformer = Transformer(\n",
    "    num_layers=2, d_model=512, num_heads=8, dff=2048, \n",
    "    input_vocab_size=8500, target_vocab_size=8000, \n",
    "    pe_input=10000, pe_target=6000)\n",
    "\n",
    "temp_input = tf.random.uniform((64, 38), dtype=tf.int64, minval=0, maxval=200)\n",
    "temp_target = tf.random.uniform((64, 36), dtype=tf.int64, minval=0, maxval=200)\n",
    "\n",
    "fn_out, _ = sample_transformer(temp_input, temp_target, training=False, \n",
    "                               enc_padding_mask=None, \n",
    "                               look_ahead_mask=None,\n",
    "                               dec_padding_mask=None)\n",
    "\n",
    "fn_out.shape  # (batch_size, tar_seq_len, target_vocab_size)"
   ]
  },
  {
   "cell_type": "code",
   "execution_count": 40,
   "metadata": {},
   "outputs": [],
   "source": [
    "num_layers = 4\n",
    "d_model = 128\n",
    "dff = 512\n",
    "num_heads = 8\n",
    "\n",
    "input_vocab_size = tokenizer_pt.vocab_size + 2\n",
    "target_vocab_size = tokenizer_en.vocab_size + 2\n",
    "dropout_rate = 0.1"
   ]
  },
  {
   "cell_type": "code",
   "execution_count": 41,
   "metadata": {},
   "outputs": [],
   "source": [
    "class CustomSchedule(tf.keras.optimizers.schedules.LearningRateSchedule):\n",
    "  def __init__(self, d_model, warmup_steps=4000):\n",
    "    super(CustomSchedule, self).__init__()\n",
    "\n",
    "    self.d_model = d_model\n",
    "    self.d_model = tf.cast(self.d_model, tf.float32)\n",
    "\n",
    "    self.warmup_steps = warmup_steps\n",
    "\n",
    "  def __call__(self, step):\n",
    "    arg1 = tf.math.rsqrt(step)\n",
    "    arg2 = step * (self.warmup_steps ** -1.5)\n",
    "\n",
    "    return tf.math.rsqrt(self.d_model) * tf.math.minimum(arg1, arg2)"
   ]
  },
  {
   "cell_type": "code",
   "execution_count": 42,
   "metadata": {},
   "outputs": [],
   "source": [
    "learning_rate = CustomSchedule(d_model)\n",
    "\n",
    "optimizer = tf.keras.optimizers.Adam(learning_rate, beta_1=0.9, beta_2=0.98, \n",
    "                                     epsilon=1e-9)"
   ]
  },
  {
   "cell_type": "code",
   "execution_count": 43,
   "metadata": {},
   "outputs": [
    {
     "data": {
      "text/plain": [
       "Text(0.5, 0, 'Train Step')"
      ]
     },
     "execution_count": 43,
     "metadata": {},
     "output_type": "execute_result"
    },
    {
     "data": {
      "image/png": "[encoded data removed]",
      "text/plain": [
       "<Figure size 432x288 with 1 Axes>"
      ]
     },
     "metadata": {
      "needs_background": "light"
     },
     "output_type": "display_data"
    }
   ],
   "source": [
    "temp_learning_rate_schedule = CustomSchedule(d_model)\n",
    "\n",
    "plt.plot(temp_learning_rate_schedule(tf.range(40000, dtype=tf.float32)))\n",
    "plt.ylabel(\"Learning Rate\")\n",
    "plt.xlabel(\"Train Step\")"
   ]
  },
  {
   "cell_type": "code",
   "execution_count": 44,
   "metadata": {},
   "outputs": [],
   "source": [
    "loss_object = tf.keras.losses.SparseCategoricalCrossentropy(\n",
    "    from_logits=True, reduction='none')"
   ]
  },
  {
   "cell_type": "code",
   "execution_count": 45,
   "metadata": {},
   "outputs": [],
   "source": [
    "def loss_function(real, pred):\n",
    "  mask = tf.math.logical_not(tf.math.equal(real, 0))\n",
    "  loss_ = loss_object(real, pred)\n",
    "\n",
    "  mask = tf.cast(mask, dtype=loss_.dtype)\n",
    "  loss_ *= mask\n",
    "\n",
    "  return tf.reduce_sum(loss_)/tf.reduce_sum(mask)\n",
    "\n",
    "\n",
    "def accuracy_function(real, pred):\n",
    "  accuracies = tf.equal(real, tf.argmax(pred, axis=2))\n",
    "\n",
    "  mask = tf.math.logical_not(tf.math.equal(real, 0))\n",
    "  accuracies = tf.math.logical_and(mask, accuracies)\n",
    "\n",
    "  accuracies = tf.cast(accuracies, dtype=tf.float32)\n",
    "  mask = tf.cast(mask, dtype=tf.float32)\n",
    "  return tf.reduce_sum(accuracies)/tf.reduce_sum(mask)"
   ]
  },
  {
   "cell_type": "code",
   "execution_count": 46,
   "metadata": {},
   "outputs": [],
   "source": [
    "train_loss = tf.keras.metrics.Mean(name='train_loss')\n",
    "train_accuracy = tf.keras.metrics.Mean(name='train_accuracy')"
   ]
  },
  {
   "cell_type": "code",
   "execution_count": 47,
   "metadata": {},
   "outputs": [],
   "source": [
    "transformer = Transformer(num_layers, d_model, num_heads, dff,\n",
    "                          input_vocab_size, target_vocab_size, \n",
    "                          pe_input=input_vocab_size, \n",
    "                          pe_target=target_vocab_size,\n",
    "                          rate=dropout_rate)"
   ]
  },
  {
   "cell_type": "code",
   "execution_count": 48,
   "metadata": {},
   "outputs": [],
   "source": [
    "def create_masks(inp, tar):\n",
    "  # Encoder padding mask\n",
    "  enc_padding_mask = create_padding_mask(inp)\n",
    "\n",
    "  # Used in the 2nd attention block in the decoder.\n",
    "  # This padding mask is used to mask the encoder outputs.\n",
    "  dec_padding_mask = create_padding_mask(inp)\n",
    "\n",
    "  # Used in the 1st attention block in the decoder.\n",
    "  # It is used to pad and mask future tokens in the input received by \n",
    "  # the decoder.\n",
    "  look_ahead_mask = create_look_ahead_mask(tf.shape(tar)[1])\n",
    "  dec_target_padding_mask = create_padding_mask(tar)\n",
    "  combined_mask = tf.maximum(dec_target_padding_mask, look_ahead_mask)\n",
    "\n",
    "  return enc_padding_mask, combined_mask, dec_padding_mask"
   ]
  },
  {
   "cell_type": "code",
   "execution_count": 49,
   "metadata": {},
   "outputs": [
    {
     "name": "stdout",
     "output_type": "stream",
     "text": [
      "Latest checkpoint restored!!\n"
     ]
    }
   ],
   "source": [
    "checkpoint_path = \"./checkpoints/train\"\n",
    "\n",
    "ckpt = tf.train.Checkpoint(transformer=transformer,\n",
    "                           optimizer=optimizer)\n",
    "\n",
    "ckpt_manager = tf.train.CheckpointManager(ckpt, checkpoint_path, max_to_keep=5)\n",
    "\n",
    "# if a checkpoint exists, restore the latest checkpoint.\n",
    "if ckpt_manager.latest_checkpoint:\n",
    "  ckpt.restore(ckpt_manager.latest_checkpoint)\n",
    "  print ('Latest checkpoint restored!!')"
   ]
  },
  {
   "cell_type": "code",
   "execution_count": 50,
   "metadata": {},
   "outputs": [],
   "source": [
    "EPOCHS = 20"
   ]
  },
  {
   "cell_type": "code",
   "execution_count": 51,
   "metadata": {},
   "outputs": [],
   "source": [
    "# The @tf.function trace-compiles train_step into a TF graph for faster\n",
    "# execution. The function specializes to the precise shape of the argument\n",
    "# tensors. To avoid re-tracing due to the variable sequence lengths or variable\n",
    "# batch sizes (the last batch is smaller), use input_signature to specify\n",
    "# more generic shapes.\n",
    "\n",
    "train_step_signature = [\n",
    "    tf.TensorSpec(shape=(None, None), dtype=tf.int64),\n",
    "    tf.TensorSpec(shape=(None, None), dtype=tf.int64),\n",
    "]\n",
    "\n",
    "@tf.function(input_signature=train_step_signature)\n",
    "def train_step(inp, tar):\n",
    "  tar_inp = tar[:, :-1]\n",
    "  tar_real = tar[:, 1:]\n",
    "\n",
    "  enc_padding_mask, combined_mask, dec_padding_mask = create_masks(inp, tar_inp)\n",
    "\n",
    "  with tf.GradientTape() as tape:\n",
    "    predictions, _ = transformer(inp, tar_inp, \n",
    "                                 True, \n",
    "                                 enc_padding_mask, \n",
    "                                 combined_mask, \n",
    "                                 dec_padding_mask)\n",
    "    loss = loss_function(tar_real, predictions)\n",
    "\n",
    "  gradients = tape.gradient(loss, transformer.trainable_variables)    \n",
    "  optimizer.apply_gradients(zip(gradients, transformer.trainable_variables))\n",
    "\n",
    "  train_loss(loss)\n",
    "  train_accuracy(accuracy_function(tar_real, predictions))"
   ]
  },
  {
   "cell_type": "code",
   "execution_count": 52,
   "metadata": {},
   "outputs": [
    {
     "name": "stdout",
     "output_type": "stream",
     "text": [
      "Epoch 1 Batch 0 Loss 1.0125 Accuracy 0.7546\n",
      "Epoch 1 Batch 50 Loss 1.0622 Accuracy 0.7491\n",
      "Epoch 1 Batch 100 Loss 1.0652 Accuracy 0.7492\n",
      "Epoch 1 Batch 150 Loss 1.0745 Accuracy 0.7474\n",
      "Epoch 1 Batch 200 Loss 1.0814 Accuracy 0.7460\n",
      "Epoch 1 Batch 250 Loss 1.0902 Accuracy 0.7444\n",
      "Epoch 1 Batch 300 Loss 1.0971 Accuracy 0.7432\n",
      "Epoch 1 Batch 350 Loss 1.1025 Accuracy 0.7418\n",
      "Epoch 1 Batch 400 Loss 1.1097 Accuracy 0.7404\n",
      "Epoch 1 Batch 450 Loss 1.1150 Accuracy 0.7393\n",
      "Epoch 1 Batch 500 Loss 1.1197 Accuracy 0.7386\n",
      "Epoch 1 Batch 550 Loss 1.1260 Accuracy 0.7375\n",
      "Epoch 1 Batch 600 Loss 1.1308 Accuracy 0.7366\n",
      "Epoch 1 Batch 650 Loss 1.1368 Accuracy 0.7355\n",
      "Epoch 1 Batch 700 Loss 1.1426 Accuracy 0.7345\n",
      "Epoch 1 Loss 1.1431 Accuracy 0.7344\n",
      "Time taken for 1 epoch: 406.90173840522766 secs\n",
      "\n",
      "Epoch 2 Batch 0 Loss 0.9380 Accuracy 0.7629\n",
      "Epoch 2 Batch 50 Loss 1.0160 Accuracy 0.7572\n",
      "Epoch 2 Batch 100 Loss 1.0235 Accuracy 0.7562\n",
      "Epoch 2 Batch 150 Loss 1.0311 Accuracy 0.7550\n",
      "Epoch 2 Batch 200 Loss 1.0421 Accuracy 0.7529\n",
      "Epoch 2 Batch 250 Loss 1.0507 Accuracy 0.7515\n",
      "Epoch 2 Batch 300 Loss 1.0589 Accuracy 0.7498\n",
      "Epoch 2 Batch 350 Loss 1.0655 Accuracy 0.7484\n",
      "Epoch 2 Batch 400 Loss 1.0702 Accuracy 0.7473\n",
      "Epoch 2 Batch 450 Loss 1.0750 Accuracy 0.7466\n",
      "Epoch 2 Batch 500 Loss 1.0809 Accuracy 0.7457\n",
      "Epoch 2 Batch 550 Loss 1.0876 Accuracy 0.7445\n",
      "Epoch 2 Batch 600 Loss 1.0916 Accuracy 0.7437\n",
      "Epoch 2 Batch 650 Loss 1.0975 Accuracy 0.7427\n",
      "Epoch 2 Batch 700 Loss 1.1034 Accuracy 0.7415\n",
      "Epoch 2 Loss 1.1037 Accuracy 0.7415\n",
      "Time taken for 1 epoch: 305.0864028930664 secs\n",
      "\n",
      "Epoch 3 Batch 0 Loss 0.9397 Accuracy 0.7751\n",
      "Epoch 3 Batch 50 Loss 0.9886 Accuracy 0.7626\n",
      "Epoch 3 Batch 100 Loss 0.9932 Accuracy 0.7619\n",
      "Epoch 3 Batch 150 Loss 1.0045 Accuracy 0.7595\n",
      "Epoch 3 Batch 200 Loss 1.0091 Accuracy 0.7584\n",
      "Epoch 3 Batch 250 Loss 1.0122 Accuracy 0.7584\n",
      "Epoch 3 Batch 300 Loss 1.0200 Accuracy 0.7568\n",
      "Epoch 3 Batch 350 Loss 1.0286 Accuracy 0.7548\n",
      "Epoch 3 Batch 400 Loss 1.0365 Accuracy 0.7534\n",
      "Epoch 3 Batch 450 Loss 1.0419 Accuracy 0.7522\n",
      "Epoch 3 Batch 500 Loss 1.0474 Accuracy 0.7511\n",
      "Epoch 3 Batch 550 Loss 1.0543 Accuracy 0.7498\n",
      "Epoch 3 Batch 600 Loss 1.0602 Accuracy 0.7488\n",
      "Epoch 3 Batch 650 Loss 1.0647 Accuracy 0.7479\n",
      "Epoch 3 Batch 700 Loss 1.0705 Accuracy 0.7470\n",
      "Epoch 3 Loss 1.0710 Accuracy 0.7468\n",
      "Time taken for 1 epoch: 305.6395425796509 secs\n",
      "\n",
      "Epoch 4 Batch 0 Loss 0.9828 Accuracy 0.7729\n",
      "Epoch 4 Batch 50 Loss 0.9603 Accuracy 0.7681\n",
      "Epoch 4 Batch 100 Loss 0.9665 Accuracy 0.7676\n",
      "Epoch 4 Batch 150 Loss 0.9757 Accuracy 0.7657\n",
      "Epoch 4 Batch 200 Loss 0.9849 Accuracy 0.7633\n",
      "Epoch 4 Batch 250 Loss 0.9891 Accuracy 0.7622\n",
      "Epoch 4 Batch 300 Loss 0.9949 Accuracy 0.7609\n",
      "Epoch 4 Batch 350 Loss 1.0021 Accuracy 0.7592\n",
      "Epoch 4 Batch 400 Loss 1.0056 Accuracy 0.7586\n",
      "Epoch 4 Batch 450 Loss 1.0093 Accuracy 0.7578\n",
      "Epoch 4 Batch 500 Loss 1.0158 Accuracy 0.7567\n",
      "Epoch 4 Batch 550 Loss 1.0210 Accuracy 0.7558\n",
      "Epoch 4 Batch 600 Loss 1.0271 Accuracy 0.7545\n",
      "Epoch 4 Batch 650 Loss 1.0330 Accuracy 0.7536\n",
      "Epoch 4 Batch 700 Loss 1.0386 Accuracy 0.7525\n",
      "Epoch 4 Loss 1.0387 Accuracy 0.7525\n",
      "Time taken for 1 epoch: 301.9817523956299 secs\n",
      "\n",
      "Epoch 5 Batch 0 Loss 0.9030 Accuracy 0.7915\n",
      "Epoch 5 Batch 50 Loss 0.9186 Accuracy 0.7750\n",
      "Epoch 5 Batch 100 Loss 0.9292 Accuracy 0.7726\n",
      "Epoch 5 Batch 150 Loss 0.9423 Accuracy 0.7698\n",
      "Epoch 5 Batch 200 Loss 0.9519 Accuracy 0.7684\n",
      "Epoch 5 Batch 250 Loss 0.9589 Accuracy 0.7676\n",
      "Epoch 5 Batch 300 Loss 0.9642 Accuracy 0.7666\n",
      "Epoch 5 Batch 350 Loss 0.9707 Accuracy 0.7653\n",
      "Epoch 5 Batch 400 Loss 0.9761 Accuracy 0.7641\n",
      "Epoch 5 Batch 450 Loss 0.9815 Accuracy 0.7631\n",
      "Epoch 5 Batch 500 Loss 0.9861 Accuracy 0.7624\n",
      "Epoch 5 Batch 550 Loss 0.9924 Accuracy 0.7612\n",
      "Epoch 5 Batch 600 Loss 0.9988 Accuracy 0.7599\n",
      "Epoch 5 Batch 650 Loss 1.0056 Accuracy 0.7587\n",
      "Epoch 5 Batch 700 Loss 1.0097 Accuracy 0.7578\n",
      "Saving checkpoint for epoch 5 at ./checkpoints/train\\ckpt-5\n",
      "Epoch 5 Loss 1.0097 Accuracy 0.7578\n",
      "Time taken for 1 epoch: 303.44133377075195 secs\n",
      "\n",
      "Epoch 6 Batch 0 Loss 0.9998 Accuracy 0.7707\n",
      "Epoch 6 Batch 50 Loss 0.9000 Accuracy 0.7802\n",
      "Epoch 6 Batch 100 Loss 0.9090 Accuracy 0.7769\n",
      "Epoch 6 Batch 150 Loss 0.9164 Accuracy 0.7747\n",
      "Epoch 6 Batch 200 Loss 0.9204 Accuracy 0.7744\n",
      "Epoch 6 Batch 250 Loss 0.9268 Accuracy 0.7732\n",
      "Epoch 6 Batch 300 Loss 0.9347 Accuracy 0.7719\n",
      "Epoch 6 Batch 350 Loss 0.9393 Accuracy 0.7709\n",
      "Epoch 6 Batch 400 Loss 0.9443 Accuracy 0.7698\n",
      "Epoch 6 Batch 450 Loss 0.9496 Accuracy 0.7687\n",
      "Epoch 6 Batch 500 Loss 0.9550 Accuracy 0.7675\n",
      "Epoch 6 Batch 550 Loss 0.9596 Accuracy 0.7666\n",
      "Epoch 6 Batch 600 Loss 0.9661 Accuracy 0.7654\n",
      "Epoch 6 Batch 650 Loss 0.9731 Accuracy 0.7642\n",
      "Epoch 6 Batch 700 Loss 0.9782 Accuracy 0.7632\n",
      "Epoch 6 Loss 0.9784 Accuracy 0.7631\n",
      "Time taken for 1 epoch: 301.060099363327 secs\n",
      "\n",
      "Epoch 7 Batch 0 Loss 0.7551 Accuracy 0.8206\n",
      "Epoch 7 Batch 50 Loss 0.8488 Accuracy 0.7899\n",
      "Epoch 7 Batch 100 Loss 0.8693 Accuracy 0.7860\n",
      "Epoch 7 Batch 150 Loss 0.8856 Accuracy 0.7815\n",
      "Epoch 7 Batch 200 Loss 0.8932 Accuracy 0.7798\n",
      "Epoch 7 Batch 250 Loss 0.9013 Accuracy 0.7781\n",
      "Epoch 7 Batch 300 Loss 0.9087 Accuracy 0.7761\n",
      "Epoch 7 Batch 350 Loss 0.9144 Accuracy 0.7750\n",
      "Epoch 7 Batch 400 Loss 0.9183 Accuracy 0.7742\n",
      "Epoch 7 Batch 450 Loss 0.9233 Accuracy 0.7732\n",
      "Epoch 7 Batch 500 Loss 0.9298 Accuracy 0.7719\n",
      "Epoch 7 Batch 550 Loss 0.9371 Accuracy 0.7704\n",
      "Epoch 7 Batch 600 Loss 0.9424 Accuracy 0.7696\n",
      "Epoch 7 Batch 650 Loss 0.9485 Accuracy 0.7683\n",
      "Epoch 7 Batch 700 Loss 0.9540 Accuracy 0.7673\n",
      "Epoch 7 Loss 0.9541 Accuracy 0.7673\n",
      "Time taken for 1 epoch: 315.2778489589691 secs\n",
      "\n",
      "Epoch 8 Batch 0 Loss 0.8361 Accuracy 0.7883\n",
      "Epoch 8 Batch 50 Loss 0.8400 Accuracy 0.7906\n",
      "Epoch 8 Batch 100 Loss 0.8602 Accuracy 0.7855\n",
      "Epoch 8 Batch 150 Loss 0.8703 Accuracy 0.7831\n",
      "Epoch 8 Batch 200 Loss 0.8749 Accuracy 0.7812\n",
      "Epoch 8 Batch 250 Loss 0.8833 Accuracy 0.7795\n",
      "Epoch 8 Batch 300 Loss 0.8891 Accuracy 0.7783\n",
      "Epoch 8 Batch 350 Loss 0.8937 Accuracy 0.7776\n",
      "Epoch 8 Batch 400 Loss 0.8963 Accuracy 0.7770\n",
      "Epoch 8 Batch 450 Loss 0.9010 Accuracy 0.7761\n",
      "Epoch 8 Batch 500 Loss 0.9068 Accuracy 0.7750\n",
      "Epoch 8 Batch 550 Loss 0.9125 Accuracy 0.7740\n",
      "Epoch 8 Batch 600 Loss 0.9199 Accuracy 0.7727\n",
      "Epoch 8 Batch 650 Loss 0.9265 Accuracy 0.7715\n",
      "Epoch 8 Batch 700 Loss 0.9305 Accuracy 0.7706\n",
      "Epoch 8 Loss 0.9305 Accuracy 0.7706\n",
      "Time taken for 1 epoch: 318.88809156417847 secs\n",
      "\n",
      "Epoch 9 Batch 0 Loss 0.8397 Accuracy 0.7807\n",
      "Epoch 9 Batch 50 Loss 0.8302 Accuracy 0.7926\n",
      "Epoch 9 Batch 100 Loss 0.8408 Accuracy 0.7896\n",
      "Epoch 9 Batch 150 Loss 0.8518 Accuracy 0.7873\n",
      "Epoch 9 Batch 200 Loss 0.8576 Accuracy 0.7856\n",
      "Epoch 9 Batch 250 Loss 0.8630 Accuracy 0.7843\n",
      "Epoch 9 Batch 300 Loss 0.8658 Accuracy 0.7837\n",
      "Epoch 9 Batch 350 Loss 0.8698 Accuracy 0.7829\n",
      "Epoch 9 Batch 400 Loss 0.8764 Accuracy 0.7816\n",
      "Epoch 9 Batch 450 Loss 0.8817 Accuracy 0.7805\n",
      "Epoch 9 Batch 500 Loss 0.8849 Accuracy 0.7798\n",
      "Epoch 9 Batch 550 Loss 0.8906 Accuracy 0.7788\n",
      "Epoch 9 Batch 600 Loss 0.8965 Accuracy 0.7778\n",
      "Epoch 9 Batch 650 Loss 0.9013 Accuracy 0.7767\n",
      "Epoch 9 Batch 700 Loss 0.9061 Accuracy 0.7758\n",
      "Epoch 9 Loss 0.9062 Accuracy 0.7758\n",
      "Time taken for 1 epoch: 183.79868841171265 secs\n",
      "\n",
      "Epoch 10 Batch 0 Loss 0.7906 Accuracy 0.8043\n",
      "Epoch 10 Batch 50 Loss 0.7916 Accuracy 0.7988\n",
      "Epoch 10 Batch 100 Loss 0.8096 Accuracy 0.7951\n",
      "Epoch 10 Batch 150 Loss 0.8216 Accuracy 0.7934\n",
      "Epoch 10 Batch 200 Loss 0.8264 Accuracy 0.7925\n",
      "Epoch 10 Batch 250 Loss 0.8351 Accuracy 0.7907\n",
      "Epoch 10 Batch 300 Loss 0.8432 Accuracy 0.7888\n",
      "Epoch 10 Batch 350 Loss 0.8482 Accuracy 0.7876\n",
      "Epoch 10 Batch 400 Loss 0.8517 Accuracy 0.7866\n",
      "Epoch 10 Batch 450 Loss 0.8572 Accuracy 0.7855\n",
      "Epoch 10 Batch 500 Loss 0.8629 Accuracy 0.7843\n",
      "Epoch 10 Batch 550 Loss 0.8681 Accuracy 0.7831\n",
      "Epoch 10 Batch 600 Loss 0.8734 Accuracy 0.7820\n",
      "Epoch 10 Batch 650 Loss 0.8802 Accuracy 0.7806\n",
      "Epoch 10 Batch 700 Loss 0.8852 Accuracy 0.7796\n",
      "Saving checkpoint for epoch 10 at ./checkpoints/train\\ckpt-6\n",
      "Epoch 10 Loss 0.8858 Accuracy 0.7795\n",
      "Time taken for 1 epoch: 121.19188809394836 secs\n",
      "\n",
      "Epoch 11 Batch 0 Loss 0.6791 Accuracy 0.8076\n",
      "Epoch 11 Batch 50 Loss 0.7865 Accuracy 0.7992\n",
      "Epoch 11 Batch 100 Loss 0.7873 Accuracy 0.7984\n",
      "Epoch 11 Batch 150 Loss 0.8001 Accuracy 0.7963\n",
      "Epoch 11 Batch 200 Loss 0.8115 Accuracy 0.7941\n",
      "Epoch 11 Batch 250 Loss 0.8192 Accuracy 0.7928\n",
      "Epoch 11 Batch 300 Loss 0.8238 Accuracy 0.7919\n",
      "Epoch 11 Batch 350 Loss 0.8294 Accuracy 0.7907\n"
     ]
    },
    {
     "name": "stdout",
     "output_type": "stream",
     "text": [
      "Epoch 11 Batch 400 Loss 0.8345 Accuracy 0.7898\n",
      "Epoch 11 Batch 450 Loss 0.8384 Accuracy 0.7892\n",
      "Epoch 11 Batch 500 Loss 0.8439 Accuracy 0.7878\n",
      "Epoch 11 Batch 550 Loss 0.8501 Accuracy 0.7866\n",
      "Epoch 11 Batch 600 Loss 0.8564 Accuracy 0.7854\n",
      "Epoch 11 Batch 650 Loss 0.8621 Accuracy 0.7843\n",
      "Epoch 11 Batch 700 Loss 0.8657 Accuracy 0.7835\n",
      "Epoch 11 Loss 0.8658 Accuracy 0.7835\n",
      "Time taken for 1 epoch: 111.68400621414185 secs\n",
      "\n",
      "Epoch 12 Batch 0 Loss 0.7410 Accuracy 0.7900\n",
      "Epoch 12 Batch 50 Loss 0.7775 Accuracy 0.7995\n",
      "Epoch 12 Batch 100 Loss 0.7825 Accuracy 0.7995\n",
      "Epoch 12 Batch 150 Loss 0.7911 Accuracy 0.7984\n",
      "Epoch 12 Batch 200 Loss 0.7954 Accuracy 0.7977\n",
      "Epoch 12 Batch 250 Loss 0.8016 Accuracy 0.7961\n",
      "Epoch 12 Batch 300 Loss 0.8043 Accuracy 0.7956\n",
      "Epoch 12 Batch 350 Loss 0.8101 Accuracy 0.7942\n",
      "Epoch 12 Batch 400 Loss 0.8158 Accuracy 0.7929\n",
      "Epoch 12 Batch 450 Loss 0.8217 Accuracy 0.7916\n",
      "Epoch 12 Batch 500 Loss 0.8271 Accuracy 0.7904\n",
      "Epoch 12 Batch 550 Loss 0.8316 Accuracy 0.7897\n",
      "Epoch 12 Batch 600 Loss 0.8362 Accuracy 0.7890\n",
      "Epoch 12 Batch 650 Loss 0.8406 Accuracy 0.7883\n",
      "Epoch 12 Batch 700 Loss 0.8456 Accuracy 0.7873\n",
      "Epoch 12 Loss 0.8458 Accuracy 0.7873\n",
      "Time taken for 1 epoch: 112.87268233299255 secs\n",
      "\n",
      "Epoch 13 Batch 0 Loss 0.8392 Accuracy 0.7895\n",
      "Epoch 13 Batch 50 Loss 0.7493 Accuracy 0.8075\n",
      "Epoch 13 Batch 100 Loss 0.7598 Accuracy 0.8045\n",
      "Epoch 13 Batch 150 Loss 0.7627 Accuracy 0.8049\n",
      "Epoch 13 Batch 200 Loss 0.7737 Accuracy 0.8022\n",
      "Epoch 13 Batch 250 Loss 0.7814 Accuracy 0.8006\n",
      "Epoch 13 Batch 300 Loss 0.7846 Accuracy 0.7998\n",
      "Epoch 13 Batch 350 Loss 0.7918 Accuracy 0.7982\n",
      "Epoch 13 Batch 400 Loss 0.7979 Accuracy 0.7966\n",
      "Epoch 13 Batch 450 Loss 0.8025 Accuracy 0.7957\n",
      "Epoch 13 Batch 500 Loss 0.8082 Accuracy 0.7946\n",
      "Epoch 13 Batch 550 Loss 0.8129 Accuracy 0.7935\n",
      "Epoch 13 Batch 600 Loss 0.8175 Accuracy 0.7924\n",
      "Epoch 13 Batch 650 Loss 0.8223 Accuracy 0.7915\n",
      "Epoch 13 Batch 700 Loss 0.8272 Accuracy 0.7905\n",
      "Epoch 13 Loss 0.8275 Accuracy 0.7904\n",
      "Time taken for 1 epoch: 125.89482641220093 secs\n",
      "\n",
      "Epoch 14 Batch 0 Loss 0.6697 Accuracy 0.8274\n",
      "Epoch 14 Batch 50 Loss 0.7217 Accuracy 0.8144\n",
      "Epoch 14 Batch 100 Loss 0.7330 Accuracy 0.8118\n",
      "Epoch 14 Batch 150 Loss 0.7437 Accuracy 0.8089\n",
      "Epoch 14 Batch 200 Loss 0.7536 Accuracy 0.8066\n",
      "Epoch 14 Batch 250 Loss 0.7596 Accuracy 0.8055\n",
      "Epoch 14 Batch 300 Loss 0.7662 Accuracy 0.8038\n",
      "Epoch 14 Batch 350 Loss 0.7727 Accuracy 0.8025\n",
      "Epoch 14 Batch 400 Loss 0.7785 Accuracy 0.8013\n",
      "Epoch 14 Batch 450 Loss 0.7820 Accuracy 0.8005\n",
      "Epoch 14 Batch 500 Loss 0.7879 Accuracy 0.7993\n",
      "Epoch 14 Batch 550 Loss 0.7957 Accuracy 0.7975\n",
      "Epoch 14 Batch 600 Loss 0.8009 Accuracy 0.7964\n",
      "Epoch 14 Batch 650 Loss 0.8057 Accuracy 0.7953\n",
      "Epoch 14 Batch 700 Loss 0.8100 Accuracy 0.7943\n",
      "Epoch 14 Loss 0.8101 Accuracy 0.7943\n",
      "Time taken for 1 epoch: 123.28925204277039 secs\n",
      "\n",
      "Epoch 15 Batch 0 Loss 0.6984 Accuracy 0.8193\n",
      "Epoch 15 Batch 50 Loss 0.7254 Accuracy 0.8112\n",
      "Epoch 15 Batch 100 Loss 0.7308 Accuracy 0.8107\n",
      "Epoch 15 Batch 150 Loss 0.7367 Accuracy 0.8102\n",
      "Epoch 15 Batch 200 Loss 0.7443 Accuracy 0.8083\n",
      "Epoch 15 Batch 250 Loss 0.7493 Accuracy 0.8071\n",
      "Epoch 15 Batch 300 Loss 0.7556 Accuracy 0.8055\n",
      "Epoch 15 Batch 350 Loss 0.7613 Accuracy 0.8043\n",
      "Epoch 15 Batch 400 Loss 0.7651 Accuracy 0.8034\n",
      "Epoch 15 Batch 450 Loss 0.7700 Accuracy 0.8021\n",
      "Epoch 15 Batch 500 Loss 0.7745 Accuracy 0.8011\n",
      "Epoch 15 Batch 550 Loss 0.7795 Accuracy 0.8001\n",
      "Epoch 15 Batch 600 Loss 0.7841 Accuracy 0.7990\n",
      "Epoch 15 Batch 650 Loss 0.7887 Accuracy 0.7980\n",
      "Epoch 15 Batch 700 Loss 0.7933 Accuracy 0.7970\n",
      "Saving checkpoint for epoch 15 at ./checkpoints/train\\ckpt-7\n",
      "Epoch 15 Loss 0.7933 Accuracy 0.7970\n",
      "Time taken for 1 epoch: 115.95500922203064 secs\n",
      "\n",
      "Epoch 16 Batch 0 Loss 0.6879 Accuracy 0.8314\n",
      "Epoch 16 Batch 50 Loss 0.7175 Accuracy 0.8131\n",
      "Epoch 16 Batch 100 Loss 0.7213 Accuracy 0.8131\n",
      "Epoch 16 Batch 150 Loss 0.7253 Accuracy 0.8122\n",
      "Epoch 16 Batch 200 Loss 0.7307 Accuracy 0.8105\n",
      "Epoch 16 Batch 250 Loss 0.7377 Accuracy 0.8093\n",
      "Epoch 16 Batch 300 Loss 0.7440 Accuracy 0.8076\n",
      "Epoch 16 Batch 350 Loss 0.7462 Accuracy 0.8069\n",
      "Epoch 16 Batch 400 Loss 0.7498 Accuracy 0.8063\n",
      "Epoch 16 Batch 450 Loss 0.7533 Accuracy 0.8056\n",
      "Epoch 16 Batch 500 Loss 0.7589 Accuracy 0.8045\n",
      "Epoch 16 Batch 550 Loss 0.7648 Accuracy 0.8033\n",
      "Epoch 16 Batch 600 Loss 0.7697 Accuracy 0.8022\n",
      "Epoch 16 Batch 650 Loss 0.7753 Accuracy 0.8010\n",
      "Epoch 16 Batch 700 Loss 0.7804 Accuracy 0.7999\n",
      "Epoch 16 Loss 0.7807 Accuracy 0.7999\n",
      "Time taken for 1 epoch: 111.6572470664978 secs\n",
      "\n",
      "Epoch 17 Batch 0 Loss 0.6257 Accuracy 0.8347\n",
      "Epoch 17 Batch 50 Loss 0.7016 Accuracy 0.8167\n",
      "Epoch 17 Batch 100 Loss 0.7071 Accuracy 0.8163\n",
      "Epoch 17 Batch 150 Loss 0.7146 Accuracy 0.8148\n",
      "Epoch 17 Batch 200 Loss 0.7200 Accuracy 0.8135\n",
      "Epoch 17 Batch 250 Loss 0.7243 Accuracy 0.8127\n",
      "Epoch 17 Batch 300 Loss 0.7280 Accuracy 0.8117\n",
      "Epoch 17 Batch 350 Loss 0.7327 Accuracy 0.8105\n",
      "Epoch 17 Batch 400 Loss 0.7361 Accuracy 0.8095\n",
      "Epoch 17 Batch 450 Loss 0.7409 Accuracy 0.8085\n",
      "Epoch 17 Batch 500 Loss 0.7470 Accuracy 0.8070\n",
      "Epoch 17 Batch 550 Loss 0.7513 Accuracy 0.8061\n",
      "Epoch 17 Batch 600 Loss 0.7558 Accuracy 0.8051\n",
      "Epoch 17 Batch 650 Loss 0.7607 Accuracy 0.8042\n",
      "Epoch 17 Batch 700 Loss 0.7664 Accuracy 0.8029\n",
      "Epoch 17 Loss 0.7667 Accuracy 0.8028\n",
      "Time taken for 1 epoch: 112.47545146942139 secs\n",
      "\n",
      "Epoch 18 Batch 0 Loss 0.6869 Accuracy 0.8131\n",
      "Epoch 18 Batch 50 Loss 0.6842 Accuracy 0.8216\n",
      "Epoch 18 Batch 100 Loss 0.6906 Accuracy 0.8190\n",
      "Epoch 18 Batch 150 Loss 0.6949 Accuracy 0.8185\n",
      "Epoch 18 Batch 200 Loss 0.7032 Accuracy 0.8166\n",
      "Epoch 18 Batch 250 Loss 0.7094 Accuracy 0.8149\n",
      "Epoch 18 Batch 300 Loss 0.7117 Accuracy 0.8147\n",
      "Epoch 18 Batch 350 Loss 0.7171 Accuracy 0.8134\n",
      "Epoch 18 Batch 400 Loss 0.7205 Accuracy 0.8127\n",
      "Epoch 18 Batch 450 Loss 0.7243 Accuracy 0.8120\n",
      "Epoch 18 Batch 500 Loss 0.7303 Accuracy 0.8106\n",
      "Epoch 18 Batch 550 Loss 0.7339 Accuracy 0.8099\n",
      "Epoch 18 Batch 600 Loss 0.7401 Accuracy 0.8084\n",
      "Epoch 18 Batch 650 Loss 0.7451 Accuracy 0.8073\n",
      "Epoch 18 Batch 700 Loss 0.7500 Accuracy 0.8062\n",
      "Epoch 18 Loss 0.7501 Accuracy 0.8062\n",
      "Time taken for 1 epoch: 108.80322813987732 secs\n",
      "\n",
      "Epoch 19 Batch 0 Loss 0.5646 Accuracy 0.8581\n",
      "Epoch 19 Batch 50 Loss 0.6679 Accuracy 0.8257\n",
      "Epoch 19 Batch 100 Loss 0.6733 Accuracy 0.8238\n",
      "Epoch 19 Batch 150 Loss 0.6860 Accuracy 0.8204\n",
      "Epoch 19 Batch 200 Loss 0.6907 Accuracy 0.8191\n",
      "Epoch 19 Batch 250 Loss 0.6953 Accuracy 0.8181\n",
      "Epoch 19 Batch 300 Loss 0.7025 Accuracy 0.8164\n",
      "Epoch 19 Batch 350 Loss 0.7042 Accuracy 0.8160\n",
      "Epoch 19 Batch 400 Loss 0.7114 Accuracy 0.8146\n",
      "Epoch 19 Batch 450 Loss 0.7157 Accuracy 0.8137\n",
      "Epoch 19 Batch 500 Loss 0.7213 Accuracy 0.8123\n",
      "Epoch 19 Batch 550 Loss 0.7257 Accuracy 0.8113\n",
      "Epoch 19 Batch 600 Loss 0.7299 Accuracy 0.8101\n",
      "Epoch 19 Batch 650 Loss 0.7341 Accuracy 0.8093\n",
      "Epoch 19 Batch 700 Loss 0.7389 Accuracy 0.8080\n",
      "Epoch 19 Loss 0.7391 Accuracy 0.8080\n",
      "Time taken for 1 epoch: 108.61773896217346 secs\n",
      "\n",
      "Epoch 20 Batch 0 Loss 0.6096 Accuracy 0.8338\n",
      "Epoch 20 Batch 50 Loss 0.6559 Accuracy 0.8273\n",
      "Epoch 20 Batch 100 Loss 0.6652 Accuracy 0.8249\n",
      "Epoch 20 Batch 150 Loss 0.6711 Accuracy 0.8238\n",
      "Epoch 20 Batch 200 Loss 0.6772 Accuracy 0.8226\n",
      "Epoch 20 Batch 250 Loss 0.6815 Accuracy 0.8216\n",
      "Epoch 20 Batch 300 Loss 0.6868 Accuracy 0.8204\n",
      "Epoch 20 Batch 350 Loss 0.6903 Accuracy 0.8194\n",
      "Epoch 20 Batch 400 Loss 0.6950 Accuracy 0.8182\n",
      "Epoch 20 Batch 450 Loss 0.6990 Accuracy 0.8172\n",
      "Epoch 20 Batch 500 Loss 0.7044 Accuracy 0.8161\n",
      "Epoch 20 Batch 550 Loss 0.7098 Accuracy 0.8149\n",
      "Epoch 20 Batch 600 Loss 0.7141 Accuracy 0.8138\n",
      "Epoch 20 Batch 650 Loss 0.7191 Accuracy 0.8127\n",
      "Epoch 20 Batch 700 Loss 0.7235 Accuracy 0.8117\n",
      "Saving checkpoint for epoch 20 at ./checkpoints/train\\ckpt-8\n",
      "Epoch 20 Loss 0.7239 Accuracy 0.8116\n",
      "Time taken for 1 epoch: 110.04910945892334 secs\n",
      "\n"
     ]
    }
   ],
   "source": [
    "for epoch in range(EPOCHS):\n",
    "  start = time.time()\n",
    "\n",
    "  train_loss.reset_states()\n",
    "  train_accuracy.reset_states()\n",
    "\n",
    "  # inp -> portuguese, tar -> english\n",
    "  for (batch, (inp, tar)) in enumerate(train_dataset):\n",
    "    train_step(inp, tar)\n",
    "\n",
    "    if batch % 50 == 0:\n",
    "      print ('Epoch {} Batch {} Loss {:.4f} Accuracy {:.4f}'.format(\n",
    "          epoch + 1, batch, train_loss.result(), train_accuracy.result()))\n",
    "\n",
    "  if (epoch + 1) % 5 == 0:\n",
    "    ckpt_save_path = ckpt_manager.save()\n",
    "    print ('Saving checkpoint for epoch {} at {}'.format(epoch+1,\n",
    "                                                         ckpt_save_path))\n",
    "\n",
    "  print ('Epoch {} Loss {:.4f} Accuracy {:.4f}'.format(epoch + 1, \n",
    "                                                train_loss.result(), \n",
    "                                                train_accuracy.result()))\n",
    "\n",
    "  print ('Time taken for 1 epoch: {} secs\\n'.format(time.time() - start))"
   ]
  },
  {
   "cell_type": "code",
   "execution_count": 53,
   "metadata": {},
   "outputs": [],
   "source": [
    "def evaluate(inp_sentence):\n",
    "  start_token = [tokenizer_pt.vocab_size]\n",
    "  end_token = [tokenizer_pt.vocab_size + 1]\n",
    "\n",
    "  # inp sentence is portuguese, hence adding the start and end token\n",
    "  inp_sentence = start_token + tokenizer_pt.encode(inp_sentence) + end_token\n",
    "  encoder_input = tf.expand_dims(inp_sentence, 0)\n",
    "\n",
    "  # as the target is english, the first word to the transformer should be the\n",
    "  # english start token.\n",
    "  decoder_input = [tokenizer_en.vocab_size]\n",
    "  output = tf.expand_dims(decoder_input, 0)\n",
    "\n",
    "  for i in range(MAX_LENGTH):\n",
    "    enc_padding_mask, combined_mask, dec_padding_mask = create_masks(\n",
    "        encoder_input, output)\n",
    "\n",
    "    # predictions.shape == (batch_size, seq_len, vocab_size)\n",
    "    predictions, attention_weights = transformer(encoder_input, \n",
    "                                                 output,\n",
    "                                                 False,\n",
    "                                                 enc_padding_mask,\n",
    "                                                 combined_mask,\n",
    "                                                 dec_padding_mask)\n",
    "\n",
    "    # select the last word from the seq_len dimension\n",
    "    predictions = predictions[: ,-1:, :]  # (batch_size, 1, vocab_size)\n",
    "\n",
    "    predicted_id = tf.cast(tf.argmax(predictions, axis=-1), tf.int32)\n",
    "\n",
    "    # return the result if the predicted_id is equal to the end token\n",
    "    if predicted_id == tokenizer_en.vocab_size+1:\n",
    "      return tf.squeeze(output, axis=0), attention_weights\n",
    "\n",
    "    # concatentate the predicted_id to the output which is given to the decoder\n",
    "    # as its input.\n",
    "    output = tf.concat([output, predicted_id], axis=-1)\n",
    "\n",
    "  return tf.squeeze(output, axis=0), attention_weights"
   ]
  },
  {
   "cell_type": "code",
   "execution_count": 54,
   "metadata": {},
   "outputs": [],
   "source": [
    "def plot_attention_weights(attention, sentence, result, layer):\n",
    "  fig = plt.figure(figsize=(16, 8))\n",
    "\n",
    "  sentence = tokenizer_pt.encode(sentence)\n",
    "\n",
    "  attention = tf.squeeze(attention[layer], axis=0)\n",
    "\n",
    "  for head in range(attention.shape[0]):\n",
    "    ax = fig.add_subplot(2, 4, head+1)\n",
    "\n",
    "    # plot the attention weights\n",
    "    ax.matshow(attention[head][:-1, :], cmap='viridis')\n",
    "\n",
    "    fontdict = {'fontsize': 10}\n",
    "\n",
    "    ax.set_xticks(range(len(sentence)+2))\n",
    "    ax.set_yticks(range(len(result)))\n",
    "\n",
    "    ax.set_ylim(len(result)-1.5, -0.5)\n",
    "\n",
    "    ax.set_xticklabels(\n",
    "        ['<start>']+[tokenizer_pt.decode([i]) for i in sentence]+['<end>'], \n",
    "        fontdict=fontdict, rotation=90)\n",
    "\n",
    "    ax.set_yticklabels([tokenizer_en.decode([i]) for i in result \n",
    "                        if i < tokenizer_en.vocab_size], \n",
    "                       fontdict=fontdict)\n",
    "\n",
    "    ax.set_xlabel('Head {}'.format(head+1))\n",
    "\n",
    "  plt.tight_layout()\n",
    "  plt.show()"
   ]
  },
  {
   "cell_type": "code",
   "execution_count": 55,
   "metadata": {},
   "outputs": [],
   "source": [
    "def translate(sentence, plot=''):\n",
    "  result, attention_weights = evaluate(sentence)\n",
    "\n",
    "  predicted_sentence = tokenizer_en.decode([i for i in result \n",
    "                                            if i < tokenizer_en.vocab_size])  \n",
    "\n",
    "  print('Input: {}'.format(sentence))\n",
    "  print('Predicted translation: {}'.format(predicted_sentence))\n",
    "\n",
    "  if plot:\n",
    "    plot_attention_weights(attention_weights, sentence, result, plot)"
   ]
  },
  {
   "cell_type": "code",
   "execution_count": 56,
   "metadata": {},
   "outputs": [
    {
     "name": "stdout",
     "output_type": "stream",
     "text": [
      "Input: este é um problema que temos que resolver.\n",
      "Predicted translation: this is a problem that we have to solve the problem of all the matter .\n",
      "Real translation: this is a problem we have to solve .\n"
     ]
    }
   ],
   "source": [
    "translate(\"este é um problema que temos que resolver.\")\n",
    "print (\"Real translation: this is a problem we have to solve .\")"
   ]
  },
  {
   "cell_type": "code",
   "execution_count": 57,
   "metadata": {},
   "outputs": [
    {
     "name": "stdout",
     "output_type": "stream",
     "text": [
      "Input: os meus vizinhos ouviram sobre esta ideia.\n",
      "Predicted translation: my neighbors heard about this idea .\n",
      "Real translation: and my neighboring homes heard about this idea .\n"
     ]
    }
   ],
   "source": [
    "translate(\"os meus vizinhos ouviram sobre esta ideia.\")\n",
    "print (\"Real translation: and my neighboring homes heard about this idea .\")"
   ]
  },
  {
   "cell_type": "code",
   "execution_count": 58,
   "metadata": {},
   "outputs": [
    {
     "name": "stdout",
     "output_type": "stream",
     "text": [
      "Input: vou então muito rapidamente partilhar convosco algumas histórias de algumas coisas mágicas que aconteceram.\n",
      "Predicted translation: so i 'm going to really quickly share with you a few of some magic things that happened.\n",
      "Real translation: so i 'll just share with you some stories very quickly of some magical things that have happened .\n"
     ]
    }
   ],
   "source": [
    "translate(\"vou então muito rapidamente partilhar convosco algumas histórias de algumas coisas mágicas que aconteceram.\")\n",
    "print (\"Real translation: so i 'll just share with you some stories very quickly of some magical things that have happened .\")"
   ]
  },
  {
   "cell_type": "code",
   "execution_count": 59,
   "metadata": {},
   "outputs": [
    {
     "name": "stdout",
     "output_type": "stream",
     "text": [
      "Input: este é o primeiro livro que eu fiz.\n",
      "Predicted translation: this is the first book i did for me that i did .\n"
     ]
    },
    {
     "ename": "ValueError",
     "evalue": "The number of FixedLocator locations (14), usually from a call to set_ticks, does not match the number of ticklabels (13).",
     "output_type": "error",
     "traceback": [
      "\u001b[1;31m---------------------------------------------------------------------------\u001b[0m",
      "\u001b[1;31mValueError\u001b[0m                                Traceback (most recent call last)",
      "\u001b[1;32m<ipython-input-59-c9ad4e8ca771>\u001b[0m in \u001b[0;36m<module>\u001b[1;34m\u001b[0m\n\u001b[1;32m----> 1\u001b[1;33m \u001b[0mtranslate\u001b[0m\u001b[1;33m(\u001b[0m\u001b[1;34m\"este é o primeiro livro que eu fiz.\"\u001b[0m\u001b[1;33m,\u001b[0m \u001b[0mplot\u001b[0m\u001b[1;33m=\u001b[0m\u001b[1;34m'decoder_layer4_block2'\u001b[0m\u001b[1;33m)\u001b[0m\u001b[1;33m\u001b[0m\u001b[1;33m\u001b[0m\u001b[0m\n\u001b[0m\u001b[0;32m      2\u001b[0m \u001b[0mprint\u001b[0m \u001b[1;33m(\u001b[0m\u001b[1;34m\"Real translation: this is the first book i've ever done.\"\u001b[0m\u001b[1;33m)\u001b[0m\u001b[1;33m\u001b[0m\u001b[1;33m\u001b[0m\u001b[0m\n",
      "\u001b[1;32m<ipython-input-55-c65886c315f8>\u001b[0m in \u001b[0;36mtranslate\u001b[1;34m(sentence, plot)\u001b[0m\n\u001b[0;32m      9\u001b[0m \u001b[1;33m\u001b[0m\u001b[0m\n\u001b[0;32m     10\u001b[0m   \u001b[1;32mif\u001b[0m \u001b[0mplot\u001b[0m\u001b[1;33m:\u001b[0m\u001b[1;33m\u001b[0m\u001b[1;33m\u001b[0m\u001b[0m\n\u001b[1;32m---> 11\u001b[1;33m     \u001b[0mplot_attention_weights\u001b[0m\u001b[1;33m(\u001b[0m\u001b[0mattention_weights\u001b[0m\u001b[1;33m,\u001b[0m \u001b[0msentence\u001b[0m\u001b[1;33m,\u001b[0m \u001b[0mresult\u001b[0m\u001b[1;33m,\u001b[0m \u001b[0mplot\u001b[0m\u001b[1;33m)\u001b[0m\u001b[1;33m\u001b[0m\u001b[1;33m\u001b[0m\u001b[0m\n\u001b[0m",
      "\u001b[1;32m<ipython-input-54-77904dfe2add>\u001b[0m in \u001b[0;36mplot_attention_weights\u001b[1;34m(attention, sentence, result, layer)\u001b[0m\n\u001b[0;32m     23\u001b[0m         fontdict=fontdict, rotation=90)\n\u001b[0;32m     24\u001b[0m \u001b[1;33m\u001b[0m\u001b[0m\n\u001b[1;32m---> 25\u001b[1;33m     ax.set_yticklabels([tokenizer_en.decode([i]) for i in result \n\u001b[0m\u001b[0;32m     26\u001b[0m                         if i < tokenizer_en.vocab_size], \n\u001b[0;32m     27\u001b[0m                        fontdict=fontdict)\n",
      "\u001b[1;32m~\\anaconda3\\envs\\tutorial\\lib\\site-packages\\matplotlib\\axes\\_base.py\u001b[0m in \u001b[0;36mwrapper\u001b[1;34m(self, *args, **kwargs)\u001b[0m\n\u001b[0;32m     61\u001b[0m \u001b[1;33m\u001b[0m\u001b[0m\n\u001b[0;32m     62\u001b[0m         \u001b[1;32mdef\u001b[0m \u001b[0mwrapper\u001b[0m\u001b[1;33m(\u001b[0m\u001b[0mself\u001b[0m\u001b[1;33m,\u001b[0m \u001b[1;33m*\u001b[0m\u001b[0margs\u001b[0m\u001b[1;33m,\u001b[0m \u001b[1;33m**\u001b[0m\u001b[0mkwargs\u001b[0m\u001b[1;33m)\u001b[0m\u001b[1;33m:\u001b[0m\u001b[1;33m\u001b[0m\u001b[1;33m\u001b[0m\u001b[0m\n\u001b[1;32m---> 63\u001b[1;33m             \u001b[1;32mreturn\u001b[0m \u001b[0mget_method\u001b[0m\u001b[1;33m(\u001b[0m\u001b[0mself\u001b[0m\u001b[1;33m)\u001b[0m\u001b[1;33m(\u001b[0m\u001b[1;33m*\u001b[0m\u001b[0margs\u001b[0m\u001b[1;33m,\u001b[0m \u001b[1;33m**\u001b[0m\u001b[0mkwargs\u001b[0m\u001b[1;33m)\u001b[0m\u001b[1;33m\u001b[0m\u001b[1;33m\u001b[0m\u001b[0m\n\u001b[0m\u001b[0;32m     64\u001b[0m \u001b[1;33m\u001b[0m\u001b[0m\n\u001b[0;32m     65\u001b[0m         \u001b[0mwrapper\u001b[0m\u001b[1;33m.\u001b[0m\u001b[0m__module__\u001b[0m \u001b[1;33m=\u001b[0m \u001b[0mowner\u001b[0m\u001b[1;33m.\u001b[0m\u001b[0m__module__\u001b[0m\u001b[1;33m\u001b[0m\u001b[1;33m\u001b[0m\u001b[0m\n",
      "\u001b[1;32m~\\anaconda3\\envs\\tutorial\\lib\\site-packages\\matplotlib\\cbook\\deprecation.py\u001b[0m in \u001b[0;36mwrapper\u001b[1;34m(*args, **kwargs)\u001b[0m\n\u001b[0;32m    449\u001b[0m                 \u001b[1;34m\"parameter will become keyword-only %(removal)s.\"\u001b[0m\u001b[1;33m,\u001b[0m\u001b[1;33m\u001b[0m\u001b[1;33m\u001b[0m\u001b[0m\n\u001b[0;32m    450\u001b[0m                 name=name, obj_type=f\"parameter of {func.__name__}()\")\n\u001b[1;32m--> 451\u001b[1;33m         \u001b[1;32mreturn\u001b[0m \u001b[0mfunc\u001b[0m\u001b[1;33m(\u001b[0m\u001b[1;33m*\u001b[0m\u001b[0margs\u001b[0m\u001b[1;33m,\u001b[0m \u001b[1;33m**\u001b[0m\u001b[0mkwargs\u001b[0m\u001b[1;33m)\u001b[0m\u001b[1;33m\u001b[0m\u001b[1;33m\u001b[0m\u001b[0m\n\u001b[0m\u001b[0;32m    452\u001b[0m \u001b[1;33m\u001b[0m\u001b[0m\n\u001b[0;32m    453\u001b[0m     \u001b[1;32mreturn\u001b[0m \u001b[0mwrapper\u001b[0m\u001b[1;33m\u001b[0m\u001b[1;33m\u001b[0m\u001b[0m\n",
      "\u001b[1;32m~\\anaconda3\\envs\\tutorial\\lib\\site-packages\\matplotlib\\axis.py\u001b[0m in \u001b[0;36m_set_ticklabels\u001b[1;34m(self, labels, fontdict, minor, **kwargs)\u001b[0m\n\u001b[0;32m   1794\u001b[0m         \u001b[1;32mif\u001b[0m \u001b[0mfontdict\u001b[0m \u001b[1;32mis\u001b[0m \u001b[1;32mnot\u001b[0m \u001b[1;32mNone\u001b[0m\u001b[1;33m:\u001b[0m\u001b[1;33m\u001b[0m\u001b[1;33m\u001b[0m\u001b[0m\n\u001b[0;32m   1795\u001b[0m             \u001b[0mkwargs\u001b[0m\u001b[1;33m.\u001b[0m\u001b[0mupdate\u001b[0m\u001b[1;33m(\u001b[0m\u001b[0mfontdict\u001b[0m\u001b[1;33m)\u001b[0m\u001b[1;33m\u001b[0m\u001b[1;33m\u001b[0m\u001b[0m\n\u001b[1;32m-> 1796\u001b[1;33m         \u001b[1;32mreturn\u001b[0m \u001b[0mself\u001b[0m\u001b[1;33m.\u001b[0m\u001b[0mset_ticklabels\u001b[0m\u001b[1;33m(\u001b[0m\u001b[0mlabels\u001b[0m\u001b[1;33m,\u001b[0m \u001b[0mminor\u001b[0m\u001b[1;33m=\u001b[0m\u001b[0mminor\u001b[0m\u001b[1;33m,\u001b[0m \u001b[1;33m**\u001b[0m\u001b[0mkwargs\u001b[0m\u001b[1;33m)\u001b[0m\u001b[1;33m\u001b[0m\u001b[1;33m\u001b[0m\u001b[0m\n\u001b[0m\u001b[0;32m   1797\u001b[0m \u001b[1;33m\u001b[0m\u001b[0m\n\u001b[0;32m   1798\u001b[0m     \u001b[1;33m@\u001b[0m\u001b[0mcbook\u001b[0m\u001b[1;33m.\u001b[0m\u001b[0m_make_keyword_only\u001b[0m\u001b[1;33m(\u001b[0m\u001b[1;34m\"3.2\"\u001b[0m\u001b[1;33m,\u001b[0m \u001b[1;34m\"minor\"\u001b[0m\u001b[1;33m)\u001b[0m\u001b[1;33m\u001b[0m\u001b[1;33m\u001b[0m\u001b[0m\n",
      "\u001b[1;32m~\\anaconda3\\envs\\tutorial\\lib\\site-packages\\matplotlib\\axis.py\u001b[0m in \u001b[0;36mset_ticklabels\u001b[1;34m(self, ticklabels, minor, **kwargs)\u001b[0m\n\u001b[0;32m   1715\u001b[0m             \u001b[1;31m# remove all tick labels, so only error for > 0 ticklabels\u001b[0m\u001b[1;33m\u001b[0m\u001b[1;33m\u001b[0m\u001b[1;33m\u001b[0m\u001b[0m\n\u001b[0;32m   1716\u001b[0m             \u001b[1;32mif\u001b[0m \u001b[0mlen\u001b[0m\u001b[1;33m(\u001b[0m\u001b[0mlocator\u001b[0m\u001b[1;33m.\u001b[0m\u001b[0mlocs\u001b[0m\u001b[1;33m)\u001b[0m \u001b[1;33m!=\u001b[0m \u001b[0mlen\u001b[0m\u001b[1;33m(\u001b[0m\u001b[0mticklabels\u001b[0m\u001b[1;33m)\u001b[0m \u001b[1;32mand\u001b[0m \u001b[0mlen\u001b[0m\u001b[1;33m(\u001b[0m\u001b[0mticklabels\u001b[0m\u001b[1;33m)\u001b[0m \u001b[1;33m!=\u001b[0m \u001b[1;36m0\u001b[0m\u001b[1;33m:\u001b[0m\u001b[1;33m\u001b[0m\u001b[1;33m\u001b[0m\u001b[0m\n\u001b[1;32m-> 1717\u001b[1;33m                 raise ValueError(\n\u001b[0m\u001b[0;32m   1718\u001b[0m                     \u001b[1;34m\"The number of FixedLocator locations\"\u001b[0m\u001b[1;33m\u001b[0m\u001b[1;33m\u001b[0m\u001b[0m\n\u001b[0;32m   1719\u001b[0m                     \u001b[1;34mf\" ({len(locator.locs)}), usually from a call to\"\u001b[0m\u001b[1;33m\u001b[0m\u001b[1;33m\u001b[0m\u001b[0m\n",
      "\u001b[1;31mValueError\u001b[0m: The number of FixedLocator locations (14), usually from a call to set_ticks, does not match the number of ticklabels (13)."
     ]
    },
    {
     "data": {
      "image/png": "[encoded data removed]",
      "text/plain": [
       "<Figure size 1152x576 with 1 Axes>"
      ]
     },
     "metadata": {
      "needs_background": "light"
     },
     "output_type": "display_data"
    }
   ],
   "source": [
    "translate(\"este é o primeiro livro que eu fiz.\", plot='decoder_layer4_block2')\n",
    "print (\"Real translation: this is the first book i've ever done.\")"
   ]
  },
  {
   "cell_type": "code",
   "execution_count": null,
   "metadata": {},
   "outputs": [],
   "source": []
  }
 ],
 "metadata": {
  "kernelspec": {
   "display_name": "tutorial",
   "language": "python",
   "name": "tutorial"
  },
  "language_info": {
   "codemirror_mode": {
    "name": "ipython",
    "version": 3
   },
   "file_extension": ".py",
   "mimetype": "text/x-python",
   "name": "python",
   "nbconvert_exporter": "python",
   "pygments_lexer": "ipython3",
   "version": "3.8.5"
  }
 },
 "nbformat": 4,
 "nbformat_minor": 4
}
